{
 "cells": [
  {
   "cell_type": "markdown",
   "metadata": {},
   "source": [
    "# Autolib Research"
   ]
  },
  {
   "cell_type": "markdown",
   "metadata": {},
   "source": [
    "Autolib is an electric car sharing service company that specializes in renting out Electric Cars. They need research done to test a claim that the number of blue cars taken on the weekend is more than the number of blue cars taken on weekdays. This information is to help them make a more informed decision regarding whether to keep the stations open for 24hours during the weekdays like they do during weekends.   "
   ]
  },
  {
   "cell_type": "markdown",
   "metadata": {},
   "source": [
    "\n",
    "Hypothesis :\n",
    "\n",
    "Ho = There is no difference between the number of blue cars taken over the weekend compared to the weekdays.\n",
    "\n",
    "H1 = The number of blue cars taken on the weekends is more compared to the number of blue cars taken on weekdays "
   ]
  },
  {
   "cell_type": "markdown",
   "metadata": {},
   "source": [
    "# Data Preparation and Cleaning"
   ]
  },
  {
   "cell_type": "markdown",
   "metadata": {},
   "source": [
    "importing the Libraries needed for the research and reading the data"
   ]
  },
  {
   "cell_type": "code",
   "execution_count": 179,
   "metadata": {},
   "outputs": [],
   "source": [
    "import pandas as pd\n",
    "import numpy as np\n",
    "import matplotlib.pyplot as plt\n",
    "import seaborn as sns\n",
    "from scipy.stats import f_oneway\n",
    "from scipy.stats import ttest_ind"
   ]
  },
  {
   "cell_type": "code",
   "execution_count": 180,
   "metadata": {},
   "outputs": [
    {
     "data": {
      "text/plain": [
       "(16085, 13)"
      ]
     },
     "execution_count": 180,
     "metadata": {},
     "output_type": "execute_result"
    }
   ],
   "source": [
    "autolib_df = pd.read_csv('autolib_daily_events_postal_code.csv')\n",
    "autolib_df.shape"
   ]
  },
  {
   "cell_type": "code",
   "execution_count": 181,
   "metadata": {},
   "outputs": [
    {
     "data": {
      "text/html": [
       "<div>\n",
       "<style scoped>\n",
       "    .dataframe tbody tr th:only-of-type {\n",
       "        vertical-align: middle;\n",
       "    }\n",
       "\n",
       "    .dataframe tbody tr th {\n",
       "        vertical-align: top;\n",
       "    }\n",
       "\n",
       "    .dataframe thead th {\n",
       "        text-align: right;\n",
       "    }\n",
       "</style>\n",
       "<table border=\"1\" class=\"dataframe\">\n",
       "  <thead>\n",
       "    <tr style=\"text-align: right;\">\n",
       "      <th></th>\n",
       "      <th>Postal code</th>\n",
       "      <th>date</th>\n",
       "      <th>n_daily_data_points</th>\n",
       "      <th>dayOfWeek</th>\n",
       "      <th>day_type</th>\n",
       "      <th>BlueCars_taken_sum</th>\n",
       "      <th>BlueCars_returned_sum</th>\n",
       "      <th>Utilib_taken_sum</th>\n",
       "      <th>Utilib_returned_sum</th>\n",
       "      <th>Utilib_14_taken_sum</th>\n",
       "      <th>Utilib_14_returned_sum</th>\n",
       "      <th>Slots_freed_sum</th>\n",
       "      <th>Slots_taken_sum</th>\n",
       "    </tr>\n",
       "  </thead>\n",
       "  <tbody>\n",
       "    <tr>\n",
       "      <th>0</th>\n",
       "      <td>75001</td>\n",
       "      <td>1/1/2018</td>\n",
       "      <td>1440</td>\n",
       "      <td>0</td>\n",
       "      <td>weekday</td>\n",
       "      <td>110</td>\n",
       "      <td>103</td>\n",
       "      <td>3</td>\n",
       "      <td>2</td>\n",
       "      <td>10</td>\n",
       "      <td>9</td>\n",
       "      <td>22</td>\n",
       "      <td>20</td>\n",
       "    </tr>\n",
       "    <tr>\n",
       "      <th>1</th>\n",
       "      <td>75001</td>\n",
       "      <td>1/2/2018</td>\n",
       "      <td>1438</td>\n",
       "      <td>1</td>\n",
       "      <td>weekday</td>\n",
       "      <td>98</td>\n",
       "      <td>94</td>\n",
       "      <td>1</td>\n",
       "      <td>1</td>\n",
       "      <td>8</td>\n",
       "      <td>8</td>\n",
       "      <td>23</td>\n",
       "      <td>22</td>\n",
       "    </tr>\n",
       "    <tr>\n",
       "      <th>2</th>\n",
       "      <td>75001</td>\n",
       "      <td>1/3/2018</td>\n",
       "      <td>1439</td>\n",
       "      <td>2</td>\n",
       "      <td>weekday</td>\n",
       "      <td>138</td>\n",
       "      <td>139</td>\n",
       "      <td>0</td>\n",
       "      <td>0</td>\n",
       "      <td>2</td>\n",
       "      <td>2</td>\n",
       "      <td>27</td>\n",
       "      <td>27</td>\n",
       "    </tr>\n",
       "    <tr>\n",
       "      <th>3</th>\n",
       "      <td>75001</td>\n",
       "      <td>1/4/2018</td>\n",
       "      <td>1320</td>\n",
       "      <td>3</td>\n",
       "      <td>weekday</td>\n",
       "      <td>104</td>\n",
       "      <td>104</td>\n",
       "      <td>2</td>\n",
       "      <td>2</td>\n",
       "      <td>9</td>\n",
       "      <td>8</td>\n",
       "      <td>25</td>\n",
       "      <td>21</td>\n",
       "    </tr>\n",
       "    <tr>\n",
       "      <th>4</th>\n",
       "      <td>75001</td>\n",
       "      <td>1/5/2018</td>\n",
       "      <td>1440</td>\n",
       "      <td>4</td>\n",
       "      <td>weekday</td>\n",
       "      <td>114</td>\n",
       "      <td>117</td>\n",
       "      <td>3</td>\n",
       "      <td>3</td>\n",
       "      <td>6</td>\n",
       "      <td>6</td>\n",
       "      <td>18</td>\n",
       "      <td>20</td>\n",
       "    </tr>\n",
       "    <tr>\n",
       "      <th>...</th>\n",
       "      <td>...</td>\n",
       "      <td>...</td>\n",
       "      <td>...</td>\n",
       "      <td>...</td>\n",
       "      <td>...</td>\n",
       "      <td>...</td>\n",
       "      <td>...</td>\n",
       "      <td>...</td>\n",
       "      <td>...</td>\n",
       "      <td>...</td>\n",
       "      <td>...</td>\n",
       "      <td>...</td>\n",
       "      <td>...</td>\n",
       "    </tr>\n",
       "    <tr>\n",
       "      <th>16080</th>\n",
       "      <td>95880</td>\n",
       "      <td>6/15/2018</td>\n",
       "      <td>1440</td>\n",
       "      <td>4</td>\n",
       "      <td>weekday</td>\n",
       "      <td>15</td>\n",
       "      <td>10</td>\n",
       "      <td>0</td>\n",
       "      <td>0</td>\n",
       "      <td>2</td>\n",
       "      <td>3</td>\n",
       "      <td>0</td>\n",
       "      <td>0</td>\n",
       "    </tr>\n",
       "    <tr>\n",
       "      <th>16081</th>\n",
       "      <td>95880</td>\n",
       "      <td>6/16/2018</td>\n",
       "      <td>1440</td>\n",
       "      <td>5</td>\n",
       "      <td>weekend</td>\n",
       "      <td>19</td>\n",
       "      <td>19</td>\n",
       "      <td>0</td>\n",
       "      <td>0</td>\n",
       "      <td>2</td>\n",
       "      <td>1</td>\n",
       "      <td>0</td>\n",
       "      <td>0</td>\n",
       "    </tr>\n",
       "    <tr>\n",
       "      <th>16082</th>\n",
       "      <td>95880</td>\n",
       "      <td>6/17/2018</td>\n",
       "      <td>1440</td>\n",
       "      <td>6</td>\n",
       "      <td>weekend</td>\n",
       "      <td>33</td>\n",
       "      <td>35</td>\n",
       "      <td>1</td>\n",
       "      <td>1</td>\n",
       "      <td>0</td>\n",
       "      <td>0</td>\n",
       "      <td>0</td>\n",
       "      <td>0</td>\n",
       "    </tr>\n",
       "    <tr>\n",
       "      <th>16083</th>\n",
       "      <td>95880</td>\n",
       "      <td>6/18/2018</td>\n",
       "      <td>1440</td>\n",
       "      <td>0</td>\n",
       "      <td>weekday</td>\n",
       "      <td>11</td>\n",
       "      <td>14</td>\n",
       "      <td>3</td>\n",
       "      <td>5</td>\n",
       "      <td>2</td>\n",
       "      <td>2</td>\n",
       "      <td>0</td>\n",
       "      <td>0</td>\n",
       "    </tr>\n",
       "    <tr>\n",
       "      <th>16084</th>\n",
       "      <td>95880</td>\n",
       "      <td>6/19/2018</td>\n",
       "      <td>1370</td>\n",
       "      <td>1</td>\n",
       "      <td>weekday</td>\n",
       "      <td>2</td>\n",
       "      <td>2</td>\n",
       "      <td>2</td>\n",
       "      <td>1</td>\n",
       "      <td>0</td>\n",
       "      <td>0</td>\n",
       "      <td>0</td>\n",
       "      <td>0</td>\n",
       "    </tr>\n",
       "  </tbody>\n",
       "</table>\n",
       "<p>16085 rows × 13 columns</p>\n",
       "</div>"
      ],
      "text/plain": [
       "       Postal code       date  n_daily_data_points  dayOfWeek day_type  \\\n",
       "0            75001   1/1/2018                 1440          0  weekday   \n",
       "1            75001   1/2/2018                 1438          1  weekday   \n",
       "2            75001   1/3/2018                 1439          2  weekday   \n",
       "3            75001   1/4/2018                 1320          3  weekday   \n",
       "4            75001   1/5/2018                 1440          4  weekday   \n",
       "...            ...        ...                  ...        ...      ...   \n",
       "16080        95880  6/15/2018                 1440          4  weekday   \n",
       "16081        95880  6/16/2018                 1440          5  weekend   \n",
       "16082        95880  6/17/2018                 1440          6  weekend   \n",
       "16083        95880  6/18/2018                 1440          0  weekday   \n",
       "16084        95880  6/19/2018                 1370          1  weekday   \n",
       "\n",
       "       BlueCars_taken_sum  BlueCars_returned_sum  Utilib_taken_sum  \\\n",
       "0                     110                    103                 3   \n",
       "1                      98                     94                 1   \n",
       "2                     138                    139                 0   \n",
       "3                     104                    104                 2   \n",
       "4                     114                    117                 3   \n",
       "...                   ...                    ...               ...   \n",
       "16080                  15                     10                 0   \n",
       "16081                  19                     19                 0   \n",
       "16082                  33                     35                 1   \n",
       "16083                  11                     14                 3   \n",
       "16084                   2                      2                 2   \n",
       "\n",
       "       Utilib_returned_sum  Utilib_14_taken_sum  Utilib_14_returned_sum  \\\n",
       "0                        2                   10                       9   \n",
       "1                        1                    8                       8   \n",
       "2                        0                    2                       2   \n",
       "3                        2                    9                       8   \n",
       "4                        3                    6                       6   \n",
       "...                    ...                  ...                     ...   \n",
       "16080                    0                    2                       3   \n",
       "16081                    0                    2                       1   \n",
       "16082                    1                    0                       0   \n",
       "16083                    5                    2                       2   \n",
       "16084                    1                    0                       0   \n",
       "\n",
       "       Slots_freed_sum  Slots_taken_sum  \n",
       "0                   22               20  \n",
       "1                   23               22  \n",
       "2                   27               27  \n",
       "3                   25               21  \n",
       "4                   18               20  \n",
       "...                ...              ...  \n",
       "16080                0                0  \n",
       "16081                0                0  \n",
       "16082                0                0  \n",
       "16083                0                0  \n",
       "16084                0                0  \n",
       "\n",
       "[16085 rows x 13 columns]"
      ]
     },
     "execution_count": 181,
     "metadata": {},
     "output_type": "execute_result"
    }
   ],
   "source": [
    "autolib_df"
   ]
  },
  {
   "cell_type": "code",
   "execution_count": 182,
   "metadata": {},
   "outputs": [
    {
     "data": {
      "text/plain": [
       "(16085, 13)"
      ]
     },
     "execution_count": 182,
     "metadata": {},
     "output_type": "execute_result"
    }
   ],
   "source": [
    "autolib_df.shape"
   ]
  },
  {
   "cell_type": "markdown",
   "metadata": {},
   "source": [
    "Data Validity\n"
   ]
  },
  {
   "cell_type": "code",
   "execution_count": 183,
   "metadata": {},
   "outputs": [],
   "source": [
    "#Dropping daily data points since we will not be using it for this research at all\n",
    "autolib_df.drop('n_daily_data_points', inplace=True, axis=1)"
   ]
  },
  {
   "cell_type": "code",
   "execution_count": 184,
   "metadata": {},
   "outputs": [
    {
     "data": {
      "text/plain": [
       "Index(['Postal code', 'date', 'dayOfWeek', 'day_type', 'BlueCars_taken_sum',\n",
       "       'BlueCars_returned_sum', 'Utilib_taken_sum', 'Utilib_returned_sum',\n",
       "       'Utilib_14_taken_sum', 'Utilib_14_returned_sum', 'Slots_freed_sum',\n",
       "       'Slots_taken_sum'],\n",
       "      dtype='object')"
      ]
     },
     "execution_count": 184,
     "metadata": {},
     "output_type": "execute_result"
    }
   ],
   "source": [
    "autolib_df.columns"
   ]
  },
  {
   "cell_type": "markdown",
   "metadata": {},
   "source": [
    "1. Data Consistency"
   ]
  },
  {
   "cell_type": "code",
   "execution_count": 185,
   "metadata": {},
   "outputs": [],
   "source": [
    "#Dropping Duplicates\n",
    "autolib_df = autolib_df.drop_duplicates()"
   ]
  },
  {
   "cell_type": "code",
   "execution_count": 186,
   "metadata": {},
   "outputs": [
    {
     "data": {
      "text/plain": [
       "(16085, 12)"
      ]
     },
     "execution_count": 186,
     "metadata": {},
     "output_type": "execute_result"
    }
   ],
   "source": [
    "autolib_df.shape"
   ]
  },
  {
   "cell_type": "markdown",
   "metadata": {},
   "source": [
    "Data Completeness"
   ]
  },
  {
   "cell_type": "code",
   "execution_count": 187,
   "metadata": {},
   "outputs": [
    {
     "data": {
      "text/plain": [
       "Postal code               0.0\n",
       "date                      0.0\n",
       "dayOfWeek                 0.0\n",
       "day_type                  0.0\n",
       "BlueCars_taken_sum        0.0\n",
       "BlueCars_returned_sum     0.0\n",
       "Utilib_taken_sum          0.0\n",
       "Utilib_returned_sum       0.0\n",
       "Utilib_14_taken_sum       0.0\n",
       "Utilib_14_returned_sum    0.0\n",
       "Slots_freed_sum           0.0\n",
       "Slots_taken_sum           0.0\n",
       "dtype: float64"
      ]
     },
     "execution_count": 187,
     "metadata": {},
     "output_type": "execute_result"
    }
   ],
   "source": [
    "#Checking for and handling Missing Values\n",
    "autolib_df.isnull().sum()/len(autolib_df['Postal code'])"
   ]
  },
  {
   "cell_type": "markdown",
   "metadata": {},
   "source": [
    "The data seems Clean. No Duplicates or Missing Values found"
   ]
  },
  {
   "cell_type": "code",
   "execution_count": 188,
   "metadata": {},
   "outputs": [
    {
     "name": "stdout",
     "output_type": "stream",
     "text": [
      "<class 'pandas.core.frame.DataFrame'>\n",
      "Int64Index: 16085 entries, 0 to 16084\n",
      "Data columns (total 12 columns):\n",
      " #   Column                  Non-Null Count  Dtype \n",
      "---  ------                  --------------  ----- \n",
      " 0   Postal code             16085 non-null  int64 \n",
      " 1   date                    16085 non-null  object\n",
      " 2   dayOfWeek               16085 non-null  int64 \n",
      " 3   day_type                16085 non-null  object\n",
      " 4   BlueCars_taken_sum      16085 non-null  int64 \n",
      " 5   BlueCars_returned_sum   16085 non-null  int64 \n",
      " 6   Utilib_taken_sum        16085 non-null  int64 \n",
      " 7   Utilib_returned_sum     16085 non-null  int64 \n",
      " 8   Utilib_14_taken_sum     16085 non-null  int64 \n",
      " 9   Utilib_14_returned_sum  16085 non-null  int64 \n",
      " 10  Slots_freed_sum         16085 non-null  int64 \n",
      " 11  Slots_taken_sum         16085 non-null  int64 \n",
      "dtypes: int64(10), object(2)\n",
      "memory usage: 1.6+ MB\n"
     ]
    }
   ],
   "source": [
    "autolib_df.info()"
   ]
  },
  {
   "cell_type": "markdown",
   "metadata": {},
   "source": [
    "Date column seems to be saved as an object instead of a Datetime. "
   ]
  },
  {
   "cell_type": "code",
   "execution_count": 189,
   "metadata": {},
   "outputs": [],
   "source": [
    "#Converting date column to Datetime\n",
    "autolib_df['date']= pd.to_datetime(autolib_df['date'])"
   ]
  },
  {
   "cell_type": "code",
   "execution_count": 190,
   "metadata": {},
   "outputs": [
    {
     "name": "stdout",
     "output_type": "stream",
     "text": [
      "<class 'pandas.core.frame.DataFrame'>\n",
      "Int64Index: 16085 entries, 0 to 16084\n",
      "Data columns (total 12 columns):\n",
      " #   Column                  Non-Null Count  Dtype         \n",
      "---  ------                  --------------  -----         \n",
      " 0   Postal code             16085 non-null  int64         \n",
      " 1   date                    16085 non-null  datetime64[ns]\n",
      " 2   dayOfWeek               16085 non-null  int64         \n",
      " 3   day_type                16085 non-null  object        \n",
      " 4   BlueCars_taken_sum      16085 non-null  int64         \n",
      " 5   BlueCars_returned_sum   16085 non-null  int64         \n",
      " 6   Utilib_taken_sum        16085 non-null  int64         \n",
      " 7   Utilib_returned_sum     16085 non-null  int64         \n",
      " 8   Utilib_14_taken_sum     16085 non-null  int64         \n",
      " 9   Utilib_14_returned_sum  16085 non-null  int64         \n",
      " 10  Slots_freed_sum         16085 non-null  int64         \n",
      " 11  Slots_taken_sum         16085 non-null  int64         \n",
      "dtypes: datetime64[ns](1), int64(10), object(1)\n",
      "memory usage: 1.6+ MB\n"
     ]
    }
   ],
   "source": [
    "autolib_df.info()"
   ]
  },
  {
   "cell_type": "code",
   "execution_count": 191,
   "metadata": {},
   "outputs": [
    {
     "data": {
      "text/plain": [
       "Timestamp('2018-06-19 00:00:00')"
      ]
     },
     "execution_count": 191,
     "metadata": {},
     "output_type": "execute_result"
    }
   ],
   "source": [
    "autolib_df['date'].max()"
   ]
  },
  {
   "cell_type": "code",
   "execution_count": 192,
   "metadata": {},
   "outputs": [
    {
     "data": {
      "text/plain": [
       "Timestamp('2018-01-01 00:00:00')"
      ]
     },
     "execution_count": 192,
     "metadata": {},
     "output_type": "execute_result"
    }
   ],
   "source": [
    "autolib_df['date'].min()"
   ]
  },
  {
   "cell_type": "markdown",
   "metadata": {},
   "source": [
    "This investigation is being done for data between 1st January 2018 and 19th June 2018"
   ]
  },
  {
   "cell_type": "markdown",
   "metadata": {},
   "source": [
    "Checking for outliers"
   ]
  },
  {
   "cell_type": "code",
   "execution_count": 193,
   "metadata": {
    "scrolled": true
   },
   "outputs": [
    {
     "data": {
      "image/png": "[encoded data removed]",
      "text/plain": [
       "<Figure size 720x504 with 2 Axes>"
      ]
     },
     "metadata": {
      "needs_background": "light"
     },
     "output_type": "display_data"
    }
   ],
   "source": [
    "# Checking for Outliers\n",
    "fig, ((ax1, ax2)) = plt.subplots(2, figsize=(10, 7))\n",
    "fig.suptitle('Boxplots')\n",
    "sns.boxplot(autolib_df['BlueCars_taken_sum'], ax=ax1)\n",
    "sns.boxplot(autolib_df['BlueCars_returned_sum'], ax=ax2)\n",
    "plt.show()"
   ]
  },
  {
   "cell_type": "code",
   "execution_count": 194,
   "metadata": {},
   "outputs": [],
   "source": [
    "#Creating a threshold to determine outliers.\n",
    "Maximum_threshold = autolib_df['BlueCars_taken_sum'].quantile(0.95)\n",
    "Minimum_threshold = autolib_df['BlueCars_taken_sum'].quantile(0.05)"
   ]
  },
  {
   "cell_type": "code",
   "execution_count": 195,
   "metadata": {},
   "outputs": [],
   "source": [
    "\n",
    "#Removing Outliers\n",
    "autolib_df = autolib_df[(autolib_df['BlueCars_taken_sum']< Maximum_threshold) & (autolib_df['BlueCars_taken_sum']< Maximum_threshold)]"
   ]
  },
  {
   "cell_type": "code",
   "execution_count": 196,
   "metadata": {},
   "outputs": [
    {
     "name": "stdout",
     "output_type": "stream",
     "text": [
      "Requirement already satisfied: statsmodels in /home/twi/anaconda3/lib/python3.7/site-packages (0.12.2)\n",
      "Requirement already satisfied: scipy>=1.1 in /home/twi/anaconda3/lib/python3.7/site-packages (from statsmodels) (1.4.1)\n",
      "Requirement already satisfied: pandas>=0.21 in /home/twi/anaconda3/lib/python3.7/site-packages (from statsmodels) (1.0.1)\n",
      "Requirement already satisfied: numpy>=1.15 in /home/twi/anaconda3/lib/python3.7/site-packages (from statsmodels) (1.18.1)\n",
      "Requirement already satisfied: patsy>=0.5 in /home/twi/anaconda3/lib/python3.7/site-packages (from statsmodels) (0.5.1)\n",
      "Requirement already satisfied: python-dateutil>=2.6.1 in /home/twi/anaconda3/lib/python3.7/site-packages (from pandas>=0.21->statsmodels) (2.8.1)\n",
      "Requirement already satisfied: pytz>=2017.2 in /home/twi/anaconda3/lib/python3.7/site-packages (from pandas>=0.21->statsmodels) (2019.3)\n",
      "Requirement already satisfied: six in /home/twi/anaconda3/lib/python3.7/site-packages (from patsy>=0.5->statsmodels) (1.14.0)\n",
      "Note: you may need to restart the kernel to use updated packages.\n"
     ]
    }
   ],
   "source": [
    "pip install statsmodels"
   ]
  },
  {
   "cell_type": "code",
   "execution_count": 197,
   "metadata": {},
   "outputs": [
    {
     "data": {
      "image/png": "[encoded data removed]",
      "text/plain": [
       "<Figure size 432x288 with 1 Axes>"
      ]
     },
     "metadata": {
      "needs_background": "light"
     },
     "output_type": "display_data"
    }
   ],
   "source": [
    "from statsmodels.graphics.gofplots import qqplot\n",
    "from matplotlib import pyplot\n",
    "data = autolib_df['BlueCars_taken_sum']\n",
    "qqplot(data, line='s')\n",
    "pyplot.show()"
   ]
  },
  {
   "cell_type": "code",
   "execution_count": 198,
   "metadata": {},
   "outputs": [
    {
     "data": {
      "image/png": "[encoded data removed]",
      "text/plain": [
       "<Figure size 432x288 with 1 Axes>"
      ]
     },
     "metadata": {
      "needs_background": "light"
     },
     "output_type": "display_data"
    }
   ],
   "source": [
    "pyplot.hist(data)\n",
    "pyplot.show()"
   ]
  },
  {
   "cell_type": "code",
   "execution_count": 200,
   "metadata": {},
   "outputs": [
    {
     "data": {
      "text/html": [
       "<div>\n",
       "<style scoped>\n",
       "    .dataframe tbody tr th:only-of-type {\n",
       "        vertical-align: middle;\n",
       "    }\n",
       "\n",
       "    .dataframe tbody tr th {\n",
       "        vertical-align: top;\n",
       "    }\n",
       "\n",
       "    .dataframe thead th {\n",
       "        text-align: right;\n",
       "    }\n",
       "</style>\n",
       "<table border=\"1\" class=\"dataframe\">\n",
       "  <thead>\n",
       "    <tr style=\"text-align: right;\">\n",
       "      <th></th>\n",
       "      <th>Postal code</th>\n",
       "      <th>date</th>\n",
       "      <th>dayOfWeek</th>\n",
       "      <th>day_type</th>\n",
       "      <th>BlueCars_taken_sum</th>\n",
       "      <th>BlueCars_returned_sum</th>\n",
       "      <th>Utilib_taken_sum</th>\n",
       "      <th>Utilib_returned_sum</th>\n",
       "      <th>Utilib_14_taken_sum</th>\n",
       "      <th>Utilib_14_returned_sum</th>\n",
       "      <th>Slots_freed_sum</th>\n",
       "      <th>Slots_taken_sum</th>\n",
       "    </tr>\n",
       "  </thead>\n",
       "  <tbody>\n",
       "    <tr>\n",
       "      <th>317</th>\n",
       "      <td>75003</td>\n",
       "      <td>2018-01-06</td>\n",
       "      <td>5</td>\n",
       "      <td>weekend</td>\n",
       "      <td>331</td>\n",
       "      <td>338</td>\n",
       "      <td>9</td>\n",
       "      <td>8</td>\n",
       "      <td>13</td>\n",
       "      <td>16</td>\n",
       "      <td>95</td>\n",
       "      <td>97</td>\n",
       "    </tr>\n",
       "    <tr>\n",
       "      <th>324</th>\n",
       "      <td>75003</td>\n",
       "      <td>2018-01-13</td>\n",
       "      <td>5</td>\n",
       "      <td>weekend</td>\n",
       "      <td>380</td>\n",
       "      <td>379</td>\n",
       "      <td>8</td>\n",
       "      <td>8</td>\n",
       "      <td>23</td>\n",
       "      <td>25</td>\n",
       "      <td>83</td>\n",
       "      <td>84</td>\n",
       "    </tr>\n",
       "    <tr>\n",
       "      <th>325</th>\n",
       "      <td>75003</td>\n",
       "      <td>2018-01-14</td>\n",
       "      <td>6</td>\n",
       "      <td>weekend</td>\n",
       "      <td>356</td>\n",
       "      <td>359</td>\n",
       "      <td>5</td>\n",
       "      <td>5</td>\n",
       "      <td>20</td>\n",
       "      <td>17</td>\n",
       "      <td>81</td>\n",
       "      <td>83</td>\n",
       "    </tr>\n",
       "    <tr>\n",
       "      <th>331</th>\n",
       "      <td>75003</td>\n",
       "      <td>2018-01-20</td>\n",
       "      <td>5</td>\n",
       "      <td>weekend</td>\n",
       "      <td>384</td>\n",
       "      <td>400</td>\n",
       "      <td>8</td>\n",
       "      <td>8</td>\n",
       "      <td>14</td>\n",
       "      <td>14</td>\n",
       "      <td>101</td>\n",
       "      <td>103</td>\n",
       "    </tr>\n",
       "    <tr>\n",
       "      <th>332</th>\n",
       "      <td>75003</td>\n",
       "      <td>2018-01-21</td>\n",
       "      <td>6</td>\n",
       "      <td>weekend</td>\n",
       "      <td>313</td>\n",
       "      <td>307</td>\n",
       "      <td>4</td>\n",
       "      <td>4</td>\n",
       "      <td>15</td>\n",
       "      <td>16</td>\n",
       "      <td>86</td>\n",
       "      <td>87</td>\n",
       "    </tr>\n",
       "    <tr>\n",
       "      <th>...</th>\n",
       "      <td>...</td>\n",
       "      <td>...</td>\n",
       "      <td>...</td>\n",
       "      <td>...</td>\n",
       "      <td>...</td>\n",
       "      <td>...</td>\n",
       "      <td>...</td>\n",
       "      <td>...</td>\n",
       "      <td>...</td>\n",
       "      <td>...</td>\n",
       "      <td>...</td>\n",
       "      <td>...</td>\n",
       "    </tr>\n",
       "    <tr>\n",
       "      <th>5120</th>\n",
       "      <td>92130</td>\n",
       "      <td>2018-05-26</td>\n",
       "      <td>5</td>\n",
       "      <td>weekend</td>\n",
       "      <td>347</td>\n",
       "      <td>347</td>\n",
       "      <td>12</td>\n",
       "      <td>13</td>\n",
       "      <td>15</td>\n",
       "      <td>16</td>\n",
       "      <td>7</td>\n",
       "      <td>7</td>\n",
       "    </tr>\n",
       "    <tr>\n",
       "      <th>5126</th>\n",
       "      <td>92130</td>\n",
       "      <td>2018-06-01</td>\n",
       "      <td>4</td>\n",
       "      <td>weekday</td>\n",
       "      <td>302</td>\n",
       "      <td>292</td>\n",
       "      <td>11</td>\n",
       "      <td>11</td>\n",
       "      <td>17</td>\n",
       "      <td>19</td>\n",
       "      <td>5</td>\n",
       "      <td>5</td>\n",
       "    </tr>\n",
       "    <tr>\n",
       "      <th>5137</th>\n",
       "      <td>92130</td>\n",
       "      <td>2018-06-12</td>\n",
       "      <td>1</td>\n",
       "      <td>weekday</td>\n",
       "      <td>318</td>\n",
       "      <td>302</td>\n",
       "      <td>3</td>\n",
       "      <td>6</td>\n",
       "      <td>26</td>\n",
       "      <td>23</td>\n",
       "      <td>2</td>\n",
       "      <td>3</td>\n",
       "    </tr>\n",
       "    <tr>\n",
       "      <th>5141</th>\n",
       "      <td>92130</td>\n",
       "      <td>2018-06-16</td>\n",
       "      <td>5</td>\n",
       "      <td>weekend</td>\n",
       "      <td>352</td>\n",
       "      <td>342</td>\n",
       "      <td>13</td>\n",
       "      <td>10</td>\n",
       "      <td>12</td>\n",
       "      <td>13</td>\n",
       "      <td>8</td>\n",
       "      <td>8</td>\n",
       "    </tr>\n",
       "    <tr>\n",
       "      <th>5142</th>\n",
       "      <td>92130</td>\n",
       "      <td>2018-06-17</td>\n",
       "      <td>6</td>\n",
       "      <td>weekend</td>\n",
       "      <td>307</td>\n",
       "      <td>315</td>\n",
       "      <td>8</td>\n",
       "      <td>9</td>\n",
       "      <td>19</td>\n",
       "      <td>21</td>\n",
       "      <td>9</td>\n",
       "      <td>9</td>\n",
       "    </tr>\n",
       "  </tbody>\n",
       "</table>\n",
       "<p>1474 rows × 12 columns</p>\n",
       "</div>"
      ],
      "text/plain": [
       "      Postal code       date  dayOfWeek day_type  BlueCars_taken_sum  \\\n",
       "317         75003 2018-01-06          5  weekend                 331   \n",
       "324         75003 2018-01-13          5  weekend                 380   \n",
       "325         75003 2018-01-14          6  weekend                 356   \n",
       "331         75003 2018-01-20          5  weekend                 384   \n",
       "332         75003 2018-01-21          6  weekend                 313   \n",
       "...           ...        ...        ...      ...                 ...   \n",
       "5120        92130 2018-05-26          5  weekend                 347   \n",
       "5126        92130 2018-06-01          4  weekday                 302   \n",
       "5137        92130 2018-06-12          1  weekday                 318   \n",
       "5141        92130 2018-06-16          5  weekend                 352   \n",
       "5142        92130 2018-06-17          6  weekend                 307   \n",
       "\n",
       "      BlueCars_returned_sum  Utilib_taken_sum  Utilib_returned_sum  \\\n",
       "317                     338                 9                    8   \n",
       "324                     379                 8                    8   \n",
       "325                     359                 5                    5   \n",
       "331                     400                 8                    8   \n",
       "332                     307                 4                    4   \n",
       "...                     ...               ...                  ...   \n",
       "5120                    347                12                   13   \n",
       "5126                    292                11                   11   \n",
       "5137                    302                 3                    6   \n",
       "5141                    342                13                   10   \n",
       "5142                    315                 8                    9   \n",
       "\n",
       "      Utilib_14_taken_sum  Utilib_14_returned_sum  Slots_freed_sum  \\\n",
       "317                    13                      16               95   \n",
       "324                    23                      25               83   \n",
       "325                    20                      17               81   \n",
       "331                    14                      14              101   \n",
       "332                    15                      16               86   \n",
       "...                   ...                     ...              ...   \n",
       "5120                   15                      16                7   \n",
       "5126                   17                      19                5   \n",
       "5137                   26                      23                2   \n",
       "5141                   12                      13                8   \n",
       "5142                   19                      21                9   \n",
       "\n",
       "      Slots_taken_sum  \n",
       "317                97  \n",
       "324                84  \n",
       "325                83  \n",
       "331               103  \n",
       "332                87  \n",
       "...               ...  \n",
       "5120                7  \n",
       "5126                5  \n",
       "5137                3  \n",
       "5141                8  \n",
       "5142                9  \n",
       "\n",
       "[1474 rows x 12 columns]"
      ]
     },
     "execution_count": 200,
     "metadata": {},
     "output_type": "execute_result"
    }
   ],
   "source": [
    "autolib_df[autolib_df['BlueCars_taken_sum'] > 300]"
   ]
  },
  {
   "cell_type": "code",
   "execution_count": 201,
   "metadata": {},
   "outputs": [
    {
     "data": {
      "text/plain": [
       "9.646596858638743"
      ]
     },
     "execution_count": 201,
     "metadata": {},
     "output_type": "execute_result"
    }
   ],
   "source": [
    "len(autolib_df[autolib_df['BlueCars_taken_sum'] > 300])/len(autolib_df)*100"
   ]
  },
  {
   "cell_type": "markdown",
   "metadata": {},
   "source": [
    "9.6% of the data is making the data become very skewed to the right.\n",
    "\n",
    "Dropping this data in order to ensure that it is less skewed before running the T-Tests."
   ]
  },
  {
   "cell_type": "code",
   "execution_count": 202,
   "metadata": {},
   "outputs": [],
   "source": [
    "autolib_df = autolib_df[autolib_df['BlueCars_taken_sum'] < 300]"
   ]
  },
  {
   "cell_type": "code",
   "execution_count": 203,
   "metadata": {},
   "outputs": [
    {
     "data": {
      "text/html": [
       "<div>\n",
       "<style scoped>\n",
       "    .dataframe tbody tr th:only-of-type {\n",
       "        vertical-align: middle;\n",
       "    }\n",
       "\n",
       "    .dataframe tbody tr th {\n",
       "        vertical-align: top;\n",
       "    }\n",
       "\n",
       "    .dataframe thead th {\n",
       "        text-align: right;\n",
       "    }\n",
       "</style>\n",
       "<table border=\"1\" class=\"dataframe\">\n",
       "  <thead>\n",
       "    <tr style=\"text-align: right;\">\n",
       "      <th></th>\n",
       "      <th>Postal code</th>\n",
       "      <th>date</th>\n",
       "      <th>dayOfWeek</th>\n",
       "      <th>day_type</th>\n",
       "      <th>BlueCars_taken_sum</th>\n",
       "      <th>BlueCars_returned_sum</th>\n",
       "      <th>Utilib_taken_sum</th>\n",
       "      <th>Utilib_returned_sum</th>\n",
       "      <th>Utilib_14_taken_sum</th>\n",
       "      <th>Utilib_14_returned_sum</th>\n",
       "      <th>Slots_freed_sum</th>\n",
       "      <th>Slots_taken_sum</th>\n",
       "    </tr>\n",
       "  </thead>\n",
       "  <tbody>\n",
       "    <tr>\n",
       "      <th>0</th>\n",
       "      <td>75001</td>\n",
       "      <td>2018-01-01</td>\n",
       "      <td>0</td>\n",
       "      <td>weekday</td>\n",
       "      <td>110</td>\n",
       "      <td>103</td>\n",
       "      <td>3</td>\n",
       "      <td>2</td>\n",
       "      <td>10</td>\n",
       "      <td>9</td>\n",
       "      <td>22</td>\n",
       "      <td>20</td>\n",
       "    </tr>\n",
       "    <tr>\n",
       "      <th>1</th>\n",
       "      <td>75001</td>\n",
       "      <td>2018-01-02</td>\n",
       "      <td>1</td>\n",
       "      <td>weekday</td>\n",
       "      <td>98</td>\n",
       "      <td>94</td>\n",
       "      <td>1</td>\n",
       "      <td>1</td>\n",
       "      <td>8</td>\n",
       "      <td>8</td>\n",
       "      <td>23</td>\n",
       "      <td>22</td>\n",
       "    </tr>\n",
       "    <tr>\n",
       "      <th>2</th>\n",
       "      <td>75001</td>\n",
       "      <td>2018-01-03</td>\n",
       "      <td>2</td>\n",
       "      <td>weekday</td>\n",
       "      <td>138</td>\n",
       "      <td>139</td>\n",
       "      <td>0</td>\n",
       "      <td>0</td>\n",
       "      <td>2</td>\n",
       "      <td>2</td>\n",
       "      <td>27</td>\n",
       "      <td>27</td>\n",
       "    </tr>\n",
       "    <tr>\n",
       "      <th>3</th>\n",
       "      <td>75001</td>\n",
       "      <td>2018-01-04</td>\n",
       "      <td>3</td>\n",
       "      <td>weekday</td>\n",
       "      <td>104</td>\n",
       "      <td>104</td>\n",
       "      <td>2</td>\n",
       "      <td>2</td>\n",
       "      <td>9</td>\n",
       "      <td>8</td>\n",
       "      <td>25</td>\n",
       "      <td>21</td>\n",
       "    </tr>\n",
       "    <tr>\n",
       "      <th>4</th>\n",
       "      <td>75001</td>\n",
       "      <td>2018-01-05</td>\n",
       "      <td>4</td>\n",
       "      <td>weekday</td>\n",
       "      <td>114</td>\n",
       "      <td>117</td>\n",
       "      <td>3</td>\n",
       "      <td>3</td>\n",
       "      <td>6</td>\n",
       "      <td>6</td>\n",
       "      <td>18</td>\n",
       "      <td>20</td>\n",
       "    </tr>\n",
       "    <tr>\n",
       "      <th>...</th>\n",
       "      <td>...</td>\n",
       "      <td>...</td>\n",
       "      <td>...</td>\n",
       "      <td>...</td>\n",
       "      <td>...</td>\n",
       "      <td>...</td>\n",
       "      <td>...</td>\n",
       "      <td>...</td>\n",
       "      <td>...</td>\n",
       "      <td>...</td>\n",
       "      <td>...</td>\n",
       "      <td>...</td>\n",
       "    </tr>\n",
       "    <tr>\n",
       "      <th>16080</th>\n",
       "      <td>95880</td>\n",
       "      <td>2018-06-15</td>\n",
       "      <td>4</td>\n",
       "      <td>weekday</td>\n",
       "      <td>15</td>\n",
       "      <td>10</td>\n",
       "      <td>0</td>\n",
       "      <td>0</td>\n",
       "      <td>2</td>\n",
       "      <td>3</td>\n",
       "      <td>0</td>\n",
       "      <td>0</td>\n",
       "    </tr>\n",
       "    <tr>\n",
       "      <th>16081</th>\n",
       "      <td>95880</td>\n",
       "      <td>2018-06-16</td>\n",
       "      <td>5</td>\n",
       "      <td>weekend</td>\n",
       "      <td>19</td>\n",
       "      <td>19</td>\n",
       "      <td>0</td>\n",
       "      <td>0</td>\n",
       "      <td>2</td>\n",
       "      <td>1</td>\n",
       "      <td>0</td>\n",
       "      <td>0</td>\n",
       "    </tr>\n",
       "    <tr>\n",
       "      <th>16082</th>\n",
       "      <td>95880</td>\n",
       "      <td>2018-06-17</td>\n",
       "      <td>6</td>\n",
       "      <td>weekend</td>\n",
       "      <td>33</td>\n",
       "      <td>35</td>\n",
       "      <td>1</td>\n",
       "      <td>1</td>\n",
       "      <td>0</td>\n",
       "      <td>0</td>\n",
       "      <td>0</td>\n",
       "      <td>0</td>\n",
       "    </tr>\n",
       "    <tr>\n",
       "      <th>16083</th>\n",
       "      <td>95880</td>\n",
       "      <td>2018-06-18</td>\n",
       "      <td>0</td>\n",
       "      <td>weekday</td>\n",
       "      <td>11</td>\n",
       "      <td>14</td>\n",
       "      <td>3</td>\n",
       "      <td>5</td>\n",
       "      <td>2</td>\n",
       "      <td>2</td>\n",
       "      <td>0</td>\n",
       "      <td>0</td>\n",
       "    </tr>\n",
       "    <tr>\n",
       "      <th>16084</th>\n",
       "      <td>95880</td>\n",
       "      <td>2018-06-19</td>\n",
       "      <td>1</td>\n",
       "      <td>weekday</td>\n",
       "      <td>2</td>\n",
       "      <td>2</td>\n",
       "      <td>2</td>\n",
       "      <td>1</td>\n",
       "      <td>0</td>\n",
       "      <td>0</td>\n",
       "      <td>0</td>\n",
       "      <td>0</td>\n",
       "    </tr>\n",
       "  </tbody>\n",
       "</table>\n",
       "<p>13802 rows × 12 columns</p>\n",
       "</div>"
      ],
      "text/plain": [
       "       Postal code       date  dayOfWeek day_type  BlueCars_taken_sum  \\\n",
       "0            75001 2018-01-01          0  weekday                 110   \n",
       "1            75001 2018-01-02          1  weekday                  98   \n",
       "2            75001 2018-01-03          2  weekday                 138   \n",
       "3            75001 2018-01-04          3  weekday                 104   \n",
       "4            75001 2018-01-05          4  weekday                 114   \n",
       "...            ...        ...        ...      ...                 ...   \n",
       "16080        95880 2018-06-15          4  weekday                  15   \n",
       "16081        95880 2018-06-16          5  weekend                  19   \n",
       "16082        95880 2018-06-17          6  weekend                  33   \n",
       "16083        95880 2018-06-18          0  weekday                  11   \n",
       "16084        95880 2018-06-19          1  weekday                   2   \n",
       "\n",
       "       BlueCars_returned_sum  Utilib_taken_sum  Utilib_returned_sum  \\\n",
       "0                        103                 3                    2   \n",
       "1                         94                 1                    1   \n",
       "2                        139                 0                    0   \n",
       "3                        104                 2                    2   \n",
       "4                        117                 3                    3   \n",
       "...                      ...               ...                  ...   \n",
       "16080                     10                 0                    0   \n",
       "16081                     19                 0                    0   \n",
       "16082                     35                 1                    1   \n",
       "16083                     14                 3                    5   \n",
       "16084                      2                 2                    1   \n",
       "\n",
       "       Utilib_14_taken_sum  Utilib_14_returned_sum  Slots_freed_sum  \\\n",
       "0                       10                       9               22   \n",
       "1                        8                       8               23   \n",
       "2                        2                       2               27   \n",
       "3                        9                       8               25   \n",
       "4                        6                       6               18   \n",
       "...                    ...                     ...              ...   \n",
       "16080                    2                       3                0   \n",
       "16081                    2                       1                0   \n",
       "16082                    0                       0                0   \n",
       "16083                    2                       2                0   \n",
       "16084                    0                       0                0   \n",
       "\n",
       "       Slots_taken_sum  \n",
       "0                   20  \n",
       "1                   22  \n",
       "2                   27  \n",
       "3                   21  \n",
       "4                   20  \n",
       "...                ...  \n",
       "16080                0  \n",
       "16081                0  \n",
       "16082                0  \n",
       "16083                0  \n",
       "16084                0  \n",
       "\n",
       "[13802 rows x 12 columns]"
      ]
     },
     "execution_count": 203,
     "metadata": {},
     "output_type": "execute_result"
    }
   ],
   "source": [
    "autolib_df"
   ]
  },
  {
   "cell_type": "markdown",
   "metadata": {},
   "source": [
    "Checking the type of Distribution the column now has"
   ]
  },
  {
   "cell_type": "code",
   "execution_count": 204,
   "metadata": {},
   "outputs": [
    {
     "data": {
      "image/png": "[encoded data removed]",
      "text/plain": [
       "<Figure size 432x288 with 1 Axes>"
      ]
     },
     "metadata": {
      "needs_background": "light"
     },
     "output_type": "display_data"
    }
   ],
   "source": [
    "data = autolib_df['BlueCars_taken_sum']\n",
    "pyplot.hist(data)\n",
    "pyplot.show()"
   ]
  },
  {
   "cell_type": "markdown",
   "metadata": {},
   "source": [
    "The sample is not Normally distributed but since the sample size is more than 30 it is safe to use the T-test since T procedures are very robust even if the data isnt normally distributed"
   ]
  },
  {
   "cell_type": "markdown",
   "metadata": {},
   "source": [
    "# Data Analysis"
   ]
  },
  {
   "cell_type": "markdown",
   "metadata": {},
   "source": [
    "Univariate Analysis"
   ]
  },
  {
   "cell_type": "code",
   "execution_count": 205,
   "metadata": {},
   "outputs": [
    {
     "data": {
      "text/plain": [
       "array(['weekday', 'weekend'], dtype=object)"
      ]
     },
     "execution_count": 205,
     "metadata": {},
     "output_type": "execute_result"
    }
   ],
   "source": [
    "autolib_df['day_type'].unique()"
   ]
  },
  {
   "cell_type": "code",
   "execution_count": 206,
   "metadata": {},
   "outputs": [
    {
     "data": {
      "text/html": [
       "<div>\n",
       "<style scoped>\n",
       "    .dataframe tbody tr th:only-of-type {\n",
       "        vertical-align: middle;\n",
       "    }\n",
       "\n",
       "    .dataframe tbody tr th {\n",
       "        vertical-align: top;\n",
       "    }\n",
       "\n",
       "    .dataframe thead th {\n",
       "        text-align: right;\n",
       "    }\n",
       "</style>\n",
       "<table border=\"1\" class=\"dataframe\">\n",
       "  <thead>\n",
       "    <tr style=\"text-align: right;\">\n",
       "      <th></th>\n",
       "      <th>Postal code</th>\n",
       "      <th>date</th>\n",
       "      <th>dayOfWeek</th>\n",
       "      <th>day_type</th>\n",
       "      <th>BlueCars_taken_sum</th>\n",
       "      <th>BlueCars_returned_sum</th>\n",
       "      <th>Utilib_taken_sum</th>\n",
       "      <th>Utilib_returned_sum</th>\n",
       "      <th>Utilib_14_taken_sum</th>\n",
       "      <th>Utilib_14_returned_sum</th>\n",
       "      <th>Slots_freed_sum</th>\n",
       "      <th>Slots_taken_sum</th>\n",
       "    </tr>\n",
       "  </thead>\n",
       "  <tbody>\n",
       "    <tr>\n",
       "      <th>0</th>\n",
       "      <td>75001</td>\n",
       "      <td>2018-01-01</td>\n",
       "      <td>0</td>\n",
       "      <td>weekday</td>\n",
       "      <td>110</td>\n",
       "      <td>103</td>\n",
       "      <td>3</td>\n",
       "      <td>2</td>\n",
       "      <td>10</td>\n",
       "      <td>9</td>\n",
       "      <td>22</td>\n",
       "      <td>20</td>\n",
       "    </tr>\n",
       "    <tr>\n",
       "      <th>1</th>\n",
       "      <td>75001</td>\n",
       "      <td>2018-01-02</td>\n",
       "      <td>1</td>\n",
       "      <td>weekday</td>\n",
       "      <td>98</td>\n",
       "      <td>94</td>\n",
       "      <td>1</td>\n",
       "      <td>1</td>\n",
       "      <td>8</td>\n",
       "      <td>8</td>\n",
       "      <td>23</td>\n",
       "      <td>22</td>\n",
       "    </tr>\n",
       "  </tbody>\n",
       "</table>\n",
       "</div>"
      ],
      "text/plain": [
       "   Postal code       date  dayOfWeek day_type  BlueCars_taken_sum  \\\n",
       "0        75001 2018-01-01          0  weekday                 110   \n",
       "1        75001 2018-01-02          1  weekday                  98   \n",
       "\n",
       "   BlueCars_returned_sum  Utilib_taken_sum  Utilib_returned_sum  \\\n",
       "0                    103                 3                    2   \n",
       "1                     94                 1                    1   \n",
       "\n",
       "   Utilib_14_taken_sum  Utilib_14_returned_sum  Slots_freed_sum  \\\n",
       "0                   10                       9               22   \n",
       "1                    8                       8               23   \n",
       "\n",
       "   Slots_taken_sum  \n",
       "0               20  \n",
       "1               22  "
      ]
     },
     "execution_count": 206,
     "metadata": {},
     "output_type": "execute_result"
    }
   ],
   "source": [
    "autolib_df.head(2)"
   ]
  },
  {
   "cell_type": "code",
   "execution_count": 207,
   "metadata": {},
   "outputs": [
    {
     "name": "stdout",
     "output_type": "stream",
     "text": [
      "Weekdays = 10023\n",
      "Weekends = 3779\n",
      "Proportion of Weekdays  = 72.62%\n",
      "Proportion of Weekends  = 27.38%\n"
     ]
    },
    {
     "data": {
      "image/png": "[encoded data removed]",
      "text/plain": [
       "<Figure size 576x432 with 1 Axes>"
      ]
     },
     "metadata": {
      "needs_background": "light"
     },
     "output_type": "display_data"
    }
   ],
   "source": [
    "#Number of cars taken during the weekdays vs During the weekends\n",
    "pos = autolib_df[autolib_df[\"day_type\"] == 'weekday'].shape[0]\n",
    "neg = autolib_df[autolib_df[\"day_type\"] == 'weekend'].shape[0]\n",
    "print(f\"Weekdays = {pos}\")\n",
    "print(f\"Weekends = {neg}\")\n",
    "print(f\"Proportion of Weekdays  = {(pos / len(autolib_df['day_type'])) * 100:.2f}%\")\n",
    "print(f\"Proportion of Weekends  = {(neg / len(autolib_df['day_type'])) * 100:.2f}%\")                                                      \n",
    "plt.figure(figsize=(8, 6))\n",
    "sns.countplot(autolib_df[\"day_type\"])\n",
    "plt.xticks((0, 1), [\"Weekday\", \"Weekend\"])\n",
    "plt.xlabel(\"\")\n",
    "plt.ylabel(\"Frequency\")\n",
    "plt.title(\"\", y=1, fontdict={\"fontsize\": 20});"
   ]
  },
  {
   "cell_type": "markdown",
   "metadata": {},
   "source": [
    "It seems like More cars are taken during the weekdays compared to the weekend. We however need to confirm this through statistical tests to make sure that this doens't just happen by chance. "
   ]
  },
  {
   "cell_type": "markdown",
   "metadata": {},
   "source": [
    "Bivariate Analysis"
   ]
  },
  {
   "cell_type": "code",
   "execution_count": 208,
   "metadata": {},
   "outputs": [
    {
     "data": {
      "text/plain": [
       "<matplotlib.axes._subplots.AxesSubplot at 0x7f409ac28210>"
      ]
     },
     "execution_count": 208,
     "metadata": {},
     "output_type": "execute_result"
    },
    {
     "data": {
      "image/png": "[encoded data removed]",
      "text/plain": [
       "<Figure size 432x288 with 1 Axes>"
      ]
     },
     "metadata": {
      "needs_background": "light"
     },
     "output_type": "display_data"
    }
   ],
   "source": [
    "#average Number of bluecars taken during the weekdays vs During the weekends\n",
    "autolib_df.groupby('day_type')['BlueCars_taken_sum'].mean().plot(kind='bar')"
   ]
  },
  {
   "cell_type": "markdown",
   "metadata": {},
   "source": [
    "From this result, it seems like MOre blue cars are taken on weekends compared to weekdays on average. We require a statistical test to prove this beyond any doubt"
   ]
  },
  {
   "cell_type": "markdown",
   "metadata": {},
   "source": [
    "# Hypothesis Testing"
   ]
  },
  {
   "cell_type": "markdown",
   "metadata": {},
   "source": [
    "Hypothesis :\n",
    " \n",
    "Ho = There is no difference between the number of blue cars taken over the weekend compared to the weekdays.\n",
    "\n",
    "H1 = The number of blue cars taken on the weekends is more to the number of blue cars taken on weekdays.  \n",
    "\n",
    "with a 0.05 Significance Level(0.95 Confidence Level)"
   ]
  },
  {
   "cell_type": "markdown",
   "metadata": {},
   "source": [
    "First lets create two separate dataframes for weekends and for weekdays"
   ]
  },
  {
   "cell_type": "code",
   "execution_count": 209,
   "metadata": {},
   "outputs": [],
   "source": [
    "Weekend_df = autolib_df[autolib_df['day_type'] == 'weekend']\n",
    "weekday_df = autolib_df[autolib_df['day_type'] == 'weekday']"
   ]
  },
  {
   "cell_type": "code",
   "execution_count": 210,
   "metadata": {},
   "outputs": [],
   "source": [
    "from scipy.stats import *\n",
    "stat,p_value = ttest_ind(Weekend_df['BlueCars_taken_sum'],weekday_df['BlueCars_taken_sum'],equal_var = True)"
   ]
  },
  {
   "cell_type": "markdown",
   "metadata": {},
   "source": [
    "Using A significant Level of 0.05,\n",
    "if the Pvalue is less than 0.05 we will reject the null Hypothesis and if it is more than 0.05 we will accept the null Hypothesis. "
   ]
  },
  {
   "cell_type": "code",
   "execution_count": 213,
   "metadata": {},
   "outputs": [
    {
     "name": "stdout",
     "output_type": "stream",
     "text": [
      "P-Value :  5.1544029610826144e-08\n",
      "T statistic :  5.448926289875178\n",
      "Reject the Null Hypothesis. There is a significant difference between the number of blue cars taken over the weekend compared to the weekdays \n"
     ]
    }
   ],
   "source": [
    "print(\"P-Value : \",p_value)\n",
    "print(\"T statistic : \",stat)\n",
    "if p_value < 0.05:\n",
    "    print(\"Reject the Null Hypothesis. There is a significant difference between the number of blue cars taken over the weekend compared to the weekdays \")\n",
    "elif p_value >0.05 :\n",
    "    print(\"Accept the Null Hypothesis. There is no significant difference between the number of blue cars taken over the weekend compared to the weekdays. Fot this reason the stations should stay open 24 hours during the weekend in order to maximize Profits\")\n",
    "\n"
   ]
  },
  {
   "cell_type": "code",
   "execution_count": null,
   "metadata": {},
   "outputs": [],
   "source": []
  },
  {
   "cell_type": "code",
   "execution_count": null,
   "metadata": {},
   "outputs": [],
   "source": []
  }
 ],
 "metadata": {
  "kernelspec": {
   "display_name": "Python 3",
   "language": "python",
   "name": "python3"
  },
  "language_info": {
   "codemirror_mode": {
    "name": "ipython",
    "version": 3
   },
   "file_extension": ".py",
   "mimetype": "text/x-python",
   "name": "python",
   "nbconvert_exporter": "python",
   "pygments_lexer": "ipython3",
   "version": "3.7.6"
  }
 },
 "nbformat": 4,
 "nbformat_minor": 4
}
